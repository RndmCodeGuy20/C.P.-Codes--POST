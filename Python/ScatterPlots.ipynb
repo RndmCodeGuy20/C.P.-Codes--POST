{
 "cells": [
  {
   "cell_type": "code",
   "execution_count": 1,
   "source": [
    "import datetime\r\n",
    "x = datetime.datetime(2420 , 6 , 9)\r\n",
    "print(x.strftime(\"%A\"))"
   ],
   "outputs": [
    {
     "output_type": "stream",
     "name": "stdout",
     "text": [
      "Tuesday\n"
     ]
    }
   ],
   "metadata": {}
  },
  {
   "cell_type": "code",
   "execution_count": 2,
   "source": [
    "import numpy as np\r\n",
    "import matplotlib.pyplot as plt\r\n",
    "x = np.linspace(0,10,100)\r\n",
    "y = x**2\r\n",
    "plt.plot(x,y)"
   ],
   "outputs": [],
   "metadata": {}
  },
  {
   "cell_type": "code",
   "execution_count": null,
   "source": [
    "import matplotlib.pyplot as plt\r\n",
    "import numpy as np\r\n",
    "\r\n",
    "x = np.array([5,7,8,7,2,17,2,9,4,11,12,9,6])\r\n",
    "y = np.array([99,86,87,88,111,86,103,87,94,78,77,85,86])\r\n",
    "plt.scatter(x, y, color = 'hotpink',cmap='viridis')\r\n",
    "\r\n",
    "x = np.array([2,2,8,1,15,8,12,9,7,3,11,4,7,14,12])\r\n",
    "y = np.array([100,105,84,105,90,99,90,95,94,100,79,112,91,80,85])\r\n",
    "plt.scatter(x, y, color = '#88c999',cmap='viridis')\r\n",
    "\r\n",
    "plt.show()"
   ],
   "outputs": [
    {
     "output_type": "display_data",
     "data": {
      "text/plain": [
       "<Figure size 432x288 with 1 Axes>"
      ],
      "application/vnd.code.notebook.error": {
       "name": "ReferenceError",
       "message": "atob is not defined",
       "stack": "ReferenceError: atob is not defined\n    at i (c:\\Users\\SHANTANU\\AppData\\Local\\Programs\\Microsoft VS Code Insiders\\resources\\app\\extensions\\ipynb\\dist\\ipynbMain.js:1:2642)\n    at k (c:\\Users\\SHANTANU\\AppData\\Local\\Programs\\Microsoft VS Code Insiders\\resources\\app\\extensions\\ipynb\\dist\\ipynbMain.js:1:7499)\n    at h (c:\\Users\\SHANTANU\\AppData\\Local\\Programs\\Microsoft VS Code Insiders\\resources\\app\\extensions\\ipynb\\dist\\ipynbMain.js:1:7795)\n    at Array.map (<anonymous>)\n    at c:\\Users\\SHANTANU\\AppData\\Local\\Programs\\Microsoft VS Code Insiders\\resources\\app\\extensions\\ipynb\\dist\\ipynbMain.js:1:8947\n    at c:\\Users\\SHANTANU\\AppData\\Local\\Programs\\Microsoft VS Code Insiders\\resources\\app\\extensions\\ipynb\\dist\\ipynbMain.js:1:9189\n    at c:\\Users\\SHANTANU\\AppData\\Local\\Programs\\Microsoft VS Code Insiders\\resources\\app\\extensions\\ipynb\\dist\\ipynbMain.js:1:9196\n    at Array.map (<anonymous>)\n    at e.jupyterNotebookModelToNotebookData (c:\\Users\\SHANTANU\\AppData\\Local\\Programs\\Microsoft VS Code Insiders\\resources\\app\\extensions\\ipynb\\dist\\ipynbMain.js:1:8505)\n    at e.NotebookSerializer.deserializeNotebook (c:\\Users\\SHANTANU\\AppData\\Local\\Programs\\Microsoft VS Code Insiders\\resources\\app\\extensions\\ipynb\\dist\\ipynbMain.js:1:9998)\n    at _.$dataToNotebook (c:\\Users\\SHANTANU\\AppData\\Local\\Programs\\Microsoft VS Code Insiders\\resources\\app\\out\\vs\\workbench\\services\\extensions\\node\\extensionHostProcess.js:85:210435)\n    at d._doInvokeHandler (c:\\Users\\SHANTANU\\AppData\\Local\\Programs\\Microsoft VS Code Insiders\\resources\\app\\out\\vs\\workbench\\services\\extensions\\node\\extensionHostProcess.js:89:12819)\n    at d._invokeHandler (c:\\Users\\SHANTANU\\AppData\\Local\\Programs\\Microsoft VS Code Insiders\\resources\\app\\out\\vs\\workbench\\services\\extensions\\node\\extensionHostProcess.js:89:12503)\n    at d._receiveRequest (c:\\Users\\SHANTANU\\AppData\\Local\\Programs\\Microsoft VS Code Insiders\\resources\\app\\out\\vs\\workbench\\services\\extensions\\node\\extensionHostProcess.js:89:11107)\n    at d._receiveOneMessage (c:\\Users\\SHANTANU\\AppData\\Local\\Programs\\Microsoft VS Code Insiders\\resources\\app\\out\\vs\\workbench\\services\\extensions\\node\\extensionHostProcess.js:89:10142)\n    at c:\\Users\\SHANTANU\\AppData\\Local\\Programs\\Microsoft VS Code Insiders\\resources\\app\\out\\vs\\workbench\\services\\extensions\\node\\extensionHostProcess.js:89:8039\n    at u.fire (c:\\Users\\SHANTANU\\AppData\\Local\\Programs\\Microsoft VS Code Insiders\\resources\\app\\out\\vs\\workbench\\services\\extensions\\node\\extensionHostProcess.js:57:1712)\n    at l.fire (c:\\Users\\SHANTANU\\AppData\\Local\\Programs\\Microsoft VS Code Insiders\\resources\\app\\out\\vs\\workbench\\services\\extensions\\node\\extensionHostProcess.js:65:15825)\n    at c:\\Users\\SHANTANU\\AppData\\Local\\Programs\\Microsoft VS Code Insiders\\resources\\app\\out\\vs\\workbench\\services\\extensions\\node\\extensionHostProcess.js:104:30061\n    at u.fire (c:\\Users\\SHANTANU\\AppData\\Local\\Programs\\Microsoft VS Code Insiders\\resources\\app\\out\\vs\\workbench\\services\\extensions\\node\\extensionHostProcess.js:57:1712)\n    at l.fire (c:\\Users\\SHANTANU\\AppData\\Local\\Programs\\Microsoft VS Code Insiders\\resources\\app\\out\\vs\\workbench\\services\\extensions\\node\\extensionHostProcess.js:65:15825)\n    at r._receiveMessage (c:\\Users\\SHANTANU\\AppData\\Local\\Programs\\Microsoft VS Code Insiders\\resources\\app\\out\\vs\\workbench\\services\\extensions\\node\\extensionHostProcess.js:65:21091)\n    at c:\\Users\\SHANTANU\\AppData\\Local\\Programs\\Microsoft VS Code Insiders\\resources\\app\\out\\vs\\workbench\\services\\extensions\\node\\extensionHostProcess.js:65:17969\n    at u.fire (c:\\Users\\SHANTANU\\AppData\\Local\\Programs\\Microsoft VS Code Insiders\\resources\\app\\out\\vs\\workbench\\services\\extensions\\node\\extensionHostProcess.js:57:1712)\n    at v.acceptChunk (c:\\Users\\SHANTANU\\AppData\\Local\\Programs\\Microsoft VS Code Insiders\\resources\\app\\out\\vs\\workbench\\services\\extensions\\node\\extensionHostProcess.js:65:13186)\n    at c:\\Users\\SHANTANU\\AppData\\Local\\Programs\\Microsoft VS Code Insiders\\resources\\app\\out\\vs\\workbench\\services\\extensions\\node\\extensionHostProcess.js:65:12534\n    at Socket.w (c:\\Users\\SHANTANU\\AppData\\Local\\Programs\\Microsoft VS Code Insiders\\resources\\app\\out\\vs\\workbench\\services\\extensions\\node\\extensionHostProcess.js:104:13219)\n    at Socket.emit (events.js:315:20)\n    at addChunk (internal/streams/readable.js:309:12)\n    at readableAddChunk (internal/streams/readable.js:284:9)\n    at Socket.Readable.push (internal/streams/readable.js:223:10)\n    at Pipe.onStreamRead (internal/stream_base_commons.js:188:23)"
      }
     },
     "metadata": {
      "needs_background": "light"
     }
    }
   ],
   "metadata": {}
  },
  {
   "cell_type": "code",
   "execution_count": null,
   "source": [
    "import matplotlib.pyplot as plt\r\n",
    "import numpy as np\r\n",
    "\r\n",
    "x = np.array([5,7,8,7,2,17,2,9,4,11,12,9,6])\r\n",
    "y = np.array([99,86,87,88,111,86,103,87,94,78,77,85,86])\r\n",
    "colors = np.array([0, 10, 20, 30, 40, 45, 50, 55, 60, 70, 80, 90, 100])\r\n",
    "\r\n",
    "plt.scatter(x, y, c=colors, cmap='autumn')\r\n",
    "plt.colorbar()\r\n",
    "plt.show()"
   ],
   "outputs": [
    {
     "output_type": "display_data",
     "data": {
      "text/plain": [
       "<Figure size 432x288 with 2 Axes>"
      ],
      "application/vnd.code.notebook.error": {
       "name": "ReferenceError",
       "message": "atob is not defined",
       "stack": "ReferenceError: atob is not defined\n    at i (c:\\Users\\SHANTANU\\AppData\\Local\\Programs\\Microsoft VS Code Insiders\\resources\\app\\extensions\\ipynb\\dist\\ipynbMain.js:1:2642)\n    at k (c:\\Users\\SHANTANU\\AppData\\Local\\Programs\\Microsoft VS Code Insiders\\resources\\app\\extensions\\ipynb\\dist\\ipynbMain.js:1:7499)\n    at h (c:\\Users\\SHANTANU\\AppData\\Local\\Programs\\Microsoft VS Code Insiders\\resources\\app\\extensions\\ipynb\\dist\\ipynbMain.js:1:7795)\n    at Array.map (<anonymous>)\n    at c:\\Users\\SHANTANU\\AppData\\Local\\Programs\\Microsoft VS Code Insiders\\resources\\app\\extensions\\ipynb\\dist\\ipynbMain.js:1:8947\n    at c:\\Users\\SHANTANU\\AppData\\Local\\Programs\\Microsoft VS Code Insiders\\resources\\app\\extensions\\ipynb\\dist\\ipynbMain.js:1:9189\n    at c:\\Users\\SHANTANU\\AppData\\Local\\Programs\\Microsoft VS Code Insiders\\resources\\app\\extensions\\ipynb\\dist\\ipynbMain.js:1:9196\n    at Array.map (<anonymous>)\n    at e.jupyterNotebookModelToNotebookData (c:\\Users\\SHANTANU\\AppData\\Local\\Programs\\Microsoft VS Code Insiders\\resources\\app\\extensions\\ipynb\\dist\\ipynbMain.js:1:8505)\n    at e.NotebookSerializer.deserializeNotebook (c:\\Users\\SHANTANU\\AppData\\Local\\Programs\\Microsoft VS Code Insiders\\resources\\app\\extensions\\ipynb\\dist\\ipynbMain.js:1:9998)\n    at _.$dataToNotebook (c:\\Users\\SHANTANU\\AppData\\Local\\Programs\\Microsoft VS Code Insiders\\resources\\app\\out\\vs\\workbench\\services\\extensions\\node\\extensionHostProcess.js:85:210435)\n    at d._doInvokeHandler (c:\\Users\\SHANTANU\\AppData\\Local\\Programs\\Microsoft VS Code Insiders\\resources\\app\\out\\vs\\workbench\\services\\extensions\\node\\extensionHostProcess.js:89:12819)\n    at d._invokeHandler (c:\\Users\\SHANTANU\\AppData\\Local\\Programs\\Microsoft VS Code Insiders\\resources\\app\\out\\vs\\workbench\\services\\extensions\\node\\extensionHostProcess.js:89:12503)\n    at d._receiveRequest (c:\\Users\\SHANTANU\\AppData\\Local\\Programs\\Microsoft VS Code Insiders\\resources\\app\\out\\vs\\workbench\\services\\extensions\\node\\extensionHostProcess.js:89:11107)\n    at d._receiveOneMessage (c:\\Users\\SHANTANU\\AppData\\Local\\Programs\\Microsoft VS Code Insiders\\resources\\app\\out\\vs\\workbench\\services\\extensions\\node\\extensionHostProcess.js:89:10142)\n    at c:\\Users\\SHANTANU\\AppData\\Local\\Programs\\Microsoft VS Code Insiders\\resources\\app\\out\\vs\\workbench\\services\\extensions\\node\\extensionHostProcess.js:89:8039\n    at u.fire (c:\\Users\\SHANTANU\\AppData\\Local\\Programs\\Microsoft VS Code Insiders\\resources\\app\\out\\vs\\workbench\\services\\extensions\\node\\extensionHostProcess.js:57:1712)\n    at l.fire (c:\\Users\\SHANTANU\\AppData\\Local\\Programs\\Microsoft VS Code Insiders\\resources\\app\\out\\vs\\workbench\\services\\extensions\\node\\extensionHostProcess.js:65:15825)\n    at c:\\Users\\SHANTANU\\AppData\\Local\\Programs\\Microsoft VS Code Insiders\\resources\\app\\out\\vs\\workbench\\services\\extensions\\node\\extensionHostProcess.js:104:30061\n    at u.fire (c:\\Users\\SHANTANU\\AppData\\Local\\Programs\\Microsoft VS Code Insiders\\resources\\app\\out\\vs\\workbench\\services\\extensions\\node\\extensionHostProcess.js:57:1712)\n    at l.fire (c:\\Users\\SHANTANU\\AppData\\Local\\Programs\\Microsoft VS Code Insiders\\resources\\app\\out\\vs\\workbench\\services\\extensions\\node\\extensionHostProcess.js:65:15825)\n    at r._receiveMessage (c:\\Users\\SHANTANU\\AppData\\Local\\Programs\\Microsoft VS Code Insiders\\resources\\app\\out\\vs\\workbench\\services\\extensions\\node\\extensionHostProcess.js:65:21091)\n    at c:\\Users\\SHANTANU\\AppData\\Local\\Programs\\Microsoft VS Code Insiders\\resources\\app\\out\\vs\\workbench\\services\\extensions\\node\\extensionHostProcess.js:65:17969\n    at u.fire (c:\\Users\\SHANTANU\\AppData\\Local\\Programs\\Microsoft VS Code Insiders\\resources\\app\\out\\vs\\workbench\\services\\extensions\\node\\extensionHostProcess.js:57:1712)\n    at v.acceptChunk (c:\\Users\\SHANTANU\\AppData\\Local\\Programs\\Microsoft VS Code Insiders\\resources\\app\\out\\vs\\workbench\\services\\extensions\\node\\extensionHostProcess.js:65:13186)\n    at c:\\Users\\SHANTANU\\AppData\\Local\\Programs\\Microsoft VS Code Insiders\\resources\\app\\out\\vs\\workbench\\services\\extensions\\node\\extensionHostProcess.js:65:12534\n    at Socket.w (c:\\Users\\SHANTANU\\AppData\\Local\\Programs\\Microsoft VS Code Insiders\\resources\\app\\out\\vs\\workbench\\services\\extensions\\node\\extensionHostProcess.js:104:13219)\n    at Socket.emit (events.js:315:20)\n    at addChunk (internal/streams/readable.js:309:12)\n    at readableAddChunk (internal/streams/readable.js:284:9)\n    at Socket.Readable.push (internal/streams/readable.js:223:10)\n    at Pipe.onStreamRead (internal/stream_base_commons.js:188:23)"
      }
     },
     "metadata": {
      "needs_background": "light"
     }
    }
   ],
   "metadata": {}
  },
  {
   "cell_type": "code",
   "execution_count": null,
   "source": [
    "import matplotlib.pyplot as plt\r\n",
    "import numpy as np\r\n",
    "\r\n",
    "x = np.random.randint(100, size=(100))\r\n",
    "y = np.random.randint(100, size=(100))\r\n",
    "colors = np.random.randint(100, size=(100))\r\n",
    "sizes = 10 * np.random.randint(100, size=(100))\r\n",
    "\r\n",
    "plt.scatter(x, y, c=colors, s=sizes, alpha=0.5, cmap='nipy_spectral')\r\n",
    "\r\n",
    "plt.colorbar()\r\n",
    "\r\n",
    "plt.show()"
   ],
   "outputs": [
    {
     "output_type": "display_data",
     "data": {
      "text/plain": [
       "<Figure size 432x288 with 2 Axes>"
      ],
      "application/vnd.code.notebook.error": {
       "name": "ReferenceError",
       "message": "atob is not defined",
       "stack": "ReferenceError: atob is not defined\n    at i (c:\\Users\\SHANTANU\\AppData\\Local\\Programs\\Microsoft VS Code Insiders\\resources\\app\\extensions\\ipynb\\dist\\ipynbMain.js:1:2642)\n    at k (c:\\Users\\SHANTANU\\AppData\\Local\\Programs\\Microsoft VS Code Insiders\\resources\\app\\extensions\\ipynb\\dist\\ipynbMain.js:1:7499)\n    at h (c:\\Users\\SHANTANU\\AppData\\Local\\Programs\\Microsoft VS Code Insiders\\resources\\app\\extensions\\ipynb\\dist\\ipynbMain.js:1:7795)\n    at Array.map (<anonymous>)\n    at c:\\Users\\SHANTANU\\AppData\\Local\\Programs\\Microsoft VS Code Insiders\\resources\\app\\extensions\\ipynb\\dist\\ipynbMain.js:1:8947\n    at c:\\Users\\SHANTANU\\AppData\\Local\\Programs\\Microsoft VS Code Insiders\\resources\\app\\extensions\\ipynb\\dist\\ipynbMain.js:1:9189\n    at c:\\Users\\SHANTANU\\AppData\\Local\\Programs\\Microsoft VS Code Insiders\\resources\\app\\extensions\\ipynb\\dist\\ipynbMain.js:1:9196\n    at Array.map (<anonymous>)\n    at e.jupyterNotebookModelToNotebookData (c:\\Users\\SHANTANU\\AppData\\Local\\Programs\\Microsoft VS Code Insiders\\resources\\app\\extensions\\ipynb\\dist\\ipynbMain.js:1:8505)\n    at e.NotebookSerializer.deserializeNotebook (c:\\Users\\SHANTANU\\AppData\\Local\\Programs\\Microsoft VS Code Insiders\\resources\\app\\extensions\\ipynb\\dist\\ipynbMain.js:1:9998)\n    at _.$dataToNotebook (c:\\Users\\SHANTANU\\AppData\\Local\\Programs\\Microsoft VS Code Insiders\\resources\\app\\out\\vs\\workbench\\services\\extensions\\node\\extensionHostProcess.js:85:210435)\n    at d._doInvokeHandler (c:\\Users\\SHANTANU\\AppData\\Local\\Programs\\Microsoft VS Code Insiders\\resources\\app\\out\\vs\\workbench\\services\\extensions\\node\\extensionHostProcess.js:89:12819)\n    at d._invokeHandler (c:\\Users\\SHANTANU\\AppData\\Local\\Programs\\Microsoft VS Code Insiders\\resources\\app\\out\\vs\\workbench\\services\\extensions\\node\\extensionHostProcess.js:89:12503)\n    at d._receiveRequest (c:\\Users\\SHANTANU\\AppData\\Local\\Programs\\Microsoft VS Code Insiders\\resources\\app\\out\\vs\\workbench\\services\\extensions\\node\\extensionHostProcess.js:89:11107)\n    at d._receiveOneMessage (c:\\Users\\SHANTANU\\AppData\\Local\\Programs\\Microsoft VS Code Insiders\\resources\\app\\out\\vs\\workbench\\services\\extensions\\node\\extensionHostProcess.js:89:10142)\n    at c:\\Users\\SHANTANU\\AppData\\Local\\Programs\\Microsoft VS Code Insiders\\resources\\app\\out\\vs\\workbench\\services\\extensions\\node\\extensionHostProcess.js:89:8039\n    at u.fire (c:\\Users\\SHANTANU\\AppData\\Local\\Programs\\Microsoft VS Code Insiders\\resources\\app\\out\\vs\\workbench\\services\\extensions\\node\\extensionHostProcess.js:57:1712)\n    at l.fire (c:\\Users\\SHANTANU\\AppData\\Local\\Programs\\Microsoft VS Code Insiders\\resources\\app\\out\\vs\\workbench\\services\\extensions\\node\\extensionHostProcess.js:65:15825)\n    at c:\\Users\\SHANTANU\\AppData\\Local\\Programs\\Microsoft VS Code Insiders\\resources\\app\\out\\vs\\workbench\\services\\extensions\\node\\extensionHostProcess.js:104:30061\n    at u.fire (c:\\Users\\SHANTANU\\AppData\\Local\\Programs\\Microsoft VS Code Insiders\\resources\\app\\out\\vs\\workbench\\services\\extensions\\node\\extensionHostProcess.js:57:1712)\n    at l.fire (c:\\Users\\SHANTANU\\AppData\\Local\\Programs\\Microsoft VS Code Insiders\\resources\\app\\out\\vs\\workbench\\services\\extensions\\node\\extensionHostProcess.js:65:15825)\n    at r._receiveMessage (c:\\Users\\SHANTANU\\AppData\\Local\\Programs\\Microsoft VS Code Insiders\\resources\\app\\out\\vs\\workbench\\services\\extensions\\node\\extensionHostProcess.js:65:21091)\n    at c:\\Users\\SHANTANU\\AppData\\Local\\Programs\\Microsoft VS Code Insiders\\resources\\app\\out\\vs\\workbench\\services\\extensions\\node\\extensionHostProcess.js:65:17969\n    at u.fire (c:\\Users\\SHANTANU\\AppData\\Local\\Programs\\Microsoft VS Code Insiders\\resources\\app\\out\\vs\\workbench\\services\\extensions\\node\\extensionHostProcess.js:57:1712)\n    at v.acceptChunk (c:\\Users\\SHANTANU\\AppData\\Local\\Programs\\Microsoft VS Code Insiders\\resources\\app\\out\\vs\\workbench\\services\\extensions\\node\\extensionHostProcess.js:65:13186)\n    at c:\\Users\\SHANTANU\\AppData\\Local\\Programs\\Microsoft VS Code Insiders\\resources\\app\\out\\vs\\workbench\\services\\extensions\\node\\extensionHostProcess.js:65:12534\n    at Socket.w (c:\\Users\\SHANTANU\\AppData\\Local\\Programs\\Microsoft VS Code Insiders\\resources\\app\\out\\vs\\workbench\\services\\extensions\\node\\extensionHostProcess.js:104:13219)\n    at Socket.emit (events.js:315:20)\n    at addChunk (internal/streams/readable.js:309:12)\n    at readableAddChunk (internal/streams/readable.js:284:9)\n    at Socket.Readable.push (internal/streams/readable.js:223:10)\n    at Pipe.onStreamRead (internal/stream_base_commons.js:188:23)"
      }
     },
     "metadata": {
      "needs_background": "light"
     }
    }
   ],
   "metadata": {}
  },
  {
   "cell_type": "code",
   "execution_count": null,
   "source": [
    "import matplotlib.pyplot as plt\r\n",
    "import numpy as np\r\n",
    "\r\n",
    "x = np.random.normal(160,5,2500)\r\n",
    "\r\n",
    "plt.hist(x)\r\n",
    "plt.show()"
   ],
   "outputs": [
    {
     "output_type": "display_data",
     "data": {
      "text/plain": [
       "<Figure size 432x288 with 1 Axes>"
      ],
      "application/vnd.code.notebook.error": {
       "name": "ReferenceError",
       "message": "atob is not defined",
       "stack": "ReferenceError: atob is not defined\n    at i (c:\\Users\\SHANTANU\\AppData\\Local\\Programs\\Microsoft VS Code Insiders\\resources\\app\\extensions\\ipynb\\dist\\ipynbMain.js:1:2642)\n    at k (c:\\Users\\SHANTANU\\AppData\\Local\\Programs\\Microsoft VS Code Insiders\\resources\\app\\extensions\\ipynb\\dist\\ipynbMain.js:1:7499)\n    at h (c:\\Users\\SHANTANU\\AppData\\Local\\Programs\\Microsoft VS Code Insiders\\resources\\app\\extensions\\ipynb\\dist\\ipynbMain.js:1:7795)\n    at Array.map (<anonymous>)\n    at c:\\Users\\SHANTANU\\AppData\\Local\\Programs\\Microsoft VS Code Insiders\\resources\\app\\extensions\\ipynb\\dist\\ipynbMain.js:1:8947\n    at c:\\Users\\SHANTANU\\AppData\\Local\\Programs\\Microsoft VS Code Insiders\\resources\\app\\extensions\\ipynb\\dist\\ipynbMain.js:1:9189\n    at c:\\Users\\SHANTANU\\AppData\\Local\\Programs\\Microsoft VS Code Insiders\\resources\\app\\extensions\\ipynb\\dist\\ipynbMain.js:1:9196\n    at Array.map (<anonymous>)\n    at e.jupyterNotebookModelToNotebookData (c:\\Users\\SHANTANU\\AppData\\Local\\Programs\\Microsoft VS Code Insiders\\resources\\app\\extensions\\ipynb\\dist\\ipynbMain.js:1:8505)\n    at e.NotebookSerializer.deserializeNotebook (c:\\Users\\SHANTANU\\AppData\\Local\\Programs\\Microsoft VS Code Insiders\\resources\\app\\extensions\\ipynb\\dist\\ipynbMain.js:1:9998)\n    at _.$dataToNotebook (c:\\Users\\SHANTANU\\AppData\\Local\\Programs\\Microsoft VS Code Insiders\\resources\\app\\out\\vs\\workbench\\services\\extensions\\node\\extensionHostProcess.js:85:210435)\n    at d._doInvokeHandler (c:\\Users\\SHANTANU\\AppData\\Local\\Programs\\Microsoft VS Code Insiders\\resources\\app\\out\\vs\\workbench\\services\\extensions\\node\\extensionHostProcess.js:89:12819)\n    at d._invokeHandler (c:\\Users\\SHANTANU\\AppData\\Local\\Programs\\Microsoft VS Code Insiders\\resources\\app\\out\\vs\\workbench\\services\\extensions\\node\\extensionHostProcess.js:89:12503)\n    at d._receiveRequest (c:\\Users\\SHANTANU\\AppData\\Local\\Programs\\Microsoft VS Code Insiders\\resources\\app\\out\\vs\\workbench\\services\\extensions\\node\\extensionHostProcess.js:89:11107)\n    at d._receiveOneMessage (c:\\Users\\SHANTANU\\AppData\\Local\\Programs\\Microsoft VS Code Insiders\\resources\\app\\out\\vs\\workbench\\services\\extensions\\node\\extensionHostProcess.js:89:10142)\n    at c:\\Users\\SHANTANU\\AppData\\Local\\Programs\\Microsoft VS Code Insiders\\resources\\app\\out\\vs\\workbench\\services\\extensions\\node\\extensionHostProcess.js:89:8039\n    at u.fire (c:\\Users\\SHANTANU\\AppData\\Local\\Programs\\Microsoft VS Code Insiders\\resources\\app\\out\\vs\\workbench\\services\\extensions\\node\\extensionHostProcess.js:57:1712)\n    at l.fire (c:\\Users\\SHANTANU\\AppData\\Local\\Programs\\Microsoft VS Code Insiders\\resources\\app\\out\\vs\\workbench\\services\\extensions\\node\\extensionHostProcess.js:65:15825)\n    at c:\\Users\\SHANTANU\\AppData\\Local\\Programs\\Microsoft VS Code Insiders\\resources\\app\\out\\vs\\workbench\\services\\extensions\\node\\extensionHostProcess.js:104:30061\n    at u.fire (c:\\Users\\SHANTANU\\AppData\\Local\\Programs\\Microsoft VS Code Insiders\\resources\\app\\out\\vs\\workbench\\services\\extensions\\node\\extensionHostProcess.js:57:1712)\n    at l.fire (c:\\Users\\SHANTANU\\AppData\\Local\\Programs\\Microsoft VS Code Insiders\\resources\\app\\out\\vs\\workbench\\services\\extensions\\node\\extensionHostProcess.js:65:15825)\n    at r._receiveMessage (c:\\Users\\SHANTANU\\AppData\\Local\\Programs\\Microsoft VS Code Insiders\\resources\\app\\out\\vs\\workbench\\services\\extensions\\node\\extensionHostProcess.js:65:21091)\n    at c:\\Users\\SHANTANU\\AppData\\Local\\Programs\\Microsoft VS Code Insiders\\resources\\app\\out\\vs\\workbench\\services\\extensions\\node\\extensionHostProcess.js:65:17969\n    at u.fire (c:\\Users\\SHANTANU\\AppData\\Local\\Programs\\Microsoft VS Code Insiders\\resources\\app\\out\\vs\\workbench\\services\\extensions\\node\\extensionHostProcess.js:57:1712)\n    at v.acceptChunk (c:\\Users\\SHANTANU\\AppData\\Local\\Programs\\Microsoft VS Code Insiders\\resources\\app\\out\\vs\\workbench\\services\\extensions\\node\\extensionHostProcess.js:65:13186)\n    at c:\\Users\\SHANTANU\\AppData\\Local\\Programs\\Microsoft VS Code Insiders\\resources\\app\\out\\vs\\workbench\\services\\extensions\\node\\extensionHostProcess.js:65:12534\n    at Socket.w (c:\\Users\\SHANTANU\\AppData\\Local\\Programs\\Microsoft VS Code Insiders\\resources\\app\\out\\vs\\workbench\\services\\extensions\\node\\extensionHostProcess.js:104:13219)\n    at Socket.emit (events.js:315:20)\n    at addChunk (internal/streams/readable.js:309:12)\n    at readableAddChunk (internal/streams/readable.js:284:9)\n    at Socket.Readable.push (internal/streams/readable.js:223:10)\n    at Pipe.onStreamRead (internal/stream_base_commons.js:188:23)"
      }
     },
     "metadata": {
      "needs_background": "light"
     }
    }
   ],
   "metadata": {}
  },
  {
   "cell_type": "code",
   "execution_count": null,
   "source": [
    "import matplotlib.pyplot as plt\r\n",
    "import numpy as np\r\n",
    "\r\n",
    "y = np.array([120,120,90])\r\n",
    "mylabels = [\"Apples\", \"Bananas\", \"Cherries\"]\r\n",
    "myexplode = [0.2,0.4,0]\r\n",
    "plt.pie(y, labels = mylabels, startangle = 90, explode=myexplode, shadow=True)\r\n",
    "plt.legend(title = \"Three Fruits:\")\r\n",
    "plt.show()"
   ],
   "outputs": [
    {
     "output_type": "display_data",
     "data": {
      "text/plain": [
       "<Figure size 432x288 with 1 Axes>"
      ],
      "application/vnd.code.notebook.error": {
       "name": "ReferenceError",
       "message": "atob is not defined",
       "stack": "ReferenceError: atob is not defined\n    at i (c:\\Users\\SHANTANU\\AppData\\Local\\Programs\\Microsoft VS Code Insiders\\resources\\app\\extensions\\ipynb\\dist\\ipynbMain.js:1:2642)\n    at k (c:\\Users\\SHANTANU\\AppData\\Local\\Programs\\Microsoft VS Code Insiders\\resources\\app\\extensions\\ipynb\\dist\\ipynbMain.js:1:7499)\n    at h (c:\\Users\\SHANTANU\\AppData\\Local\\Programs\\Microsoft VS Code Insiders\\resources\\app\\extensions\\ipynb\\dist\\ipynbMain.js:1:7795)\n    at Array.map (<anonymous>)\n    at c:\\Users\\SHANTANU\\AppData\\Local\\Programs\\Microsoft VS Code Insiders\\resources\\app\\extensions\\ipynb\\dist\\ipynbMain.js:1:8947\n    at c:\\Users\\SHANTANU\\AppData\\Local\\Programs\\Microsoft VS Code Insiders\\resources\\app\\extensions\\ipynb\\dist\\ipynbMain.js:1:9189\n    at c:\\Users\\SHANTANU\\AppData\\Local\\Programs\\Microsoft VS Code Insiders\\resources\\app\\extensions\\ipynb\\dist\\ipynbMain.js:1:9196\n    at Array.map (<anonymous>)\n    at e.jupyterNotebookModelToNotebookData (c:\\Users\\SHANTANU\\AppData\\Local\\Programs\\Microsoft VS Code Insiders\\resources\\app\\extensions\\ipynb\\dist\\ipynbMain.js:1:8505)\n    at e.NotebookSerializer.deserializeNotebook (c:\\Users\\SHANTANU\\AppData\\Local\\Programs\\Microsoft VS Code Insiders\\resources\\app\\extensions\\ipynb\\dist\\ipynbMain.js:1:9998)\n    at _.$dataToNotebook (c:\\Users\\SHANTANU\\AppData\\Local\\Programs\\Microsoft VS Code Insiders\\resources\\app\\out\\vs\\workbench\\services\\extensions\\node\\extensionHostProcess.js:85:210435)\n    at d._doInvokeHandler (c:\\Users\\SHANTANU\\AppData\\Local\\Programs\\Microsoft VS Code Insiders\\resources\\app\\out\\vs\\workbench\\services\\extensions\\node\\extensionHostProcess.js:89:12819)\n    at d._invokeHandler (c:\\Users\\SHANTANU\\AppData\\Local\\Programs\\Microsoft VS Code Insiders\\resources\\app\\out\\vs\\workbench\\services\\extensions\\node\\extensionHostProcess.js:89:12503)\n    at d._receiveRequest (c:\\Users\\SHANTANU\\AppData\\Local\\Programs\\Microsoft VS Code Insiders\\resources\\app\\out\\vs\\workbench\\services\\extensions\\node\\extensionHostProcess.js:89:11107)\n    at d._receiveOneMessage (c:\\Users\\SHANTANU\\AppData\\Local\\Programs\\Microsoft VS Code Insiders\\resources\\app\\out\\vs\\workbench\\services\\extensions\\node\\extensionHostProcess.js:89:10142)\n    at c:\\Users\\SHANTANU\\AppData\\Local\\Programs\\Microsoft VS Code Insiders\\resources\\app\\out\\vs\\workbench\\services\\extensions\\node\\extensionHostProcess.js:89:8039\n    at u.fire (c:\\Users\\SHANTANU\\AppData\\Local\\Programs\\Microsoft VS Code Insiders\\resources\\app\\out\\vs\\workbench\\services\\extensions\\node\\extensionHostProcess.js:57:1712)\n    at l.fire (c:\\Users\\SHANTANU\\AppData\\Local\\Programs\\Microsoft VS Code Insiders\\resources\\app\\out\\vs\\workbench\\services\\extensions\\node\\extensionHostProcess.js:65:15825)\n    at c:\\Users\\SHANTANU\\AppData\\Local\\Programs\\Microsoft VS Code Insiders\\resources\\app\\out\\vs\\workbench\\services\\extensions\\node\\extensionHostProcess.js:104:30061\n    at u.fire (c:\\Users\\SHANTANU\\AppData\\Local\\Programs\\Microsoft VS Code Insiders\\resources\\app\\out\\vs\\workbench\\services\\extensions\\node\\extensionHostProcess.js:57:1712)\n    at l.fire (c:\\Users\\SHANTANU\\AppData\\Local\\Programs\\Microsoft VS Code Insiders\\resources\\app\\out\\vs\\workbench\\services\\extensions\\node\\extensionHostProcess.js:65:15825)\n    at r._receiveMessage (c:\\Users\\SHANTANU\\AppData\\Local\\Programs\\Microsoft VS Code Insiders\\resources\\app\\out\\vs\\workbench\\services\\extensions\\node\\extensionHostProcess.js:65:21091)\n    at c:\\Users\\SHANTANU\\AppData\\Local\\Programs\\Microsoft VS Code Insiders\\resources\\app\\out\\vs\\workbench\\services\\extensions\\node\\extensionHostProcess.js:65:17969\n    at u.fire (c:\\Users\\SHANTANU\\AppData\\Local\\Programs\\Microsoft VS Code Insiders\\resources\\app\\out\\vs\\workbench\\services\\extensions\\node\\extensionHostProcess.js:57:1712)\n    at v.acceptChunk (c:\\Users\\SHANTANU\\AppData\\Local\\Programs\\Microsoft VS Code Insiders\\resources\\app\\out\\vs\\workbench\\services\\extensions\\node\\extensionHostProcess.js:65:13186)\n    at c:\\Users\\SHANTANU\\AppData\\Local\\Programs\\Microsoft VS Code Insiders\\resources\\app\\out\\vs\\workbench\\services\\extensions\\node\\extensionHostProcess.js:65:12534\n    at Socket.w (c:\\Users\\SHANTANU\\AppData\\Local\\Programs\\Microsoft VS Code Insiders\\resources\\app\\out\\vs\\workbench\\services\\extensions\\node\\extensionHostProcess.js:104:13219)\n    at Socket.emit (events.js:315:20)\n    at addChunk (internal/streams/readable.js:309:12)\n    at readableAddChunk (internal/streams/readable.js:284:9)\n    at Socket.Readable.push (internal/streams/readable.js:223:10)\n    at Pipe.onStreamRead (internal/stream_base_commons.js:188:23)"
      }
     },
     "metadata": {}
    }
   ],
   "metadata": {}
  }
 ],
 "metadata": {
  "interpreter": {
   "hash": "63fd5069d213b44bf678585dea6b12cceca9941eaf7f819626cde1f2670de90d"
  },
  "kernelspec": {
   "name": "python3",
   "display_name": "Python 3.9.5 64-bit"
  },
  "language_info": {
   "codemirror_mode": {
    "name": "ipython",
    "version": 3
   },
   "file_extension": ".py",
   "mimetype": "text/x-python",
   "name": "python",
   "nbconvert_exporter": "python",
   "pygments_lexer": "ipython3",
   "version": "3.9.5"
  },
  "metadata": {
   "interpreter": {
    "hash": "63fd5069d213b44bf678585dea6b12cceca9941eaf7f819626cde1f2670de90d"
   }
  },
  "orig_nbformat": 2
 },
 "nbformat": 4,
 "nbformat_minor": 2
}